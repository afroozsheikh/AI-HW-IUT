{
  "nbformat": 4,
  "nbformat_minor": 0,
  "metadata": {
    "language_info": {
      "codemirror_mode": {
        "name": "ipython",
        "version": 3
      },
      "file_extension": ".py",
      "mimetype": "text/x-python",
      "name": "python",
      "nbconvert_exporter": "python",
      "pygments_lexer": "ipython3",
      "version": "3.8.5-final"
    },
    "orig_nbformat": 2,
    "kernelspec": {
      "name": "python3",
      "display_name": "Python 3.8.5 64-bit",
      "metadata": {
        "interpreter": {
          "hash": "767d51c1340bd893661ea55ea3124f6de3c7a262a8b4abca0554b478b1e2ff90"
        }
      }
    },
    "colab": {
      "name": "Heart.ipynb",
      "provenance": [],
      "collapsed_sections": []
    }
  },
  "cells": [
    {
      "cell_type": "code",
      "metadata": {
        "colab": {
          "base_uri": "https://localhost:8080/"
        },
        "id": "gFOqhiuLZiJz",
        "outputId": "42db20e4-1960-43c8-9d2b-ff6befffae8b"
      },
      "source": [
        "pip install pgmpy"
      ],
      "execution_count": 2,
      "outputs": [
        {
          "output_type": "stream",
          "text": [
            "Collecting pgmpy\n",
            "\u001b[?25l  Downloading https://files.pythonhosted.org/packages/a3/0e/d9fadbfaa35e010c04d43acd3ae9fbefec98897dd7d61a6b7eb5a8b34072/pgmpy-0.1.14-py3-none-any.whl (331kB)\n",
            "\u001b[K     |████████████████████████████████| 337kB 5.1MB/s \n",
            "\u001b[?25hRequirement already satisfied: numpy in /usr/local/lib/python3.7/dist-packages (from pgmpy) (1.19.5)\n",
            "Requirement already satisfied: torch in /usr/local/lib/python3.7/dist-packages (from pgmpy) (1.8.1+cu101)\n",
            "Requirement already satisfied: pyparsing in /usr/local/lib/python3.7/dist-packages (from pgmpy) (2.4.7)\n",
            "Requirement already satisfied: scipy in /usr/local/lib/python3.7/dist-packages (from pgmpy) (1.4.1)\n",
            "Requirement already satisfied: networkx in /usr/local/lib/python3.7/dist-packages (from pgmpy) (2.5.1)\n",
            "Requirement already satisfied: statsmodels in /usr/local/lib/python3.7/dist-packages (from pgmpy) (0.10.2)\n",
            "Requirement already satisfied: pandas in /usr/local/lib/python3.7/dist-packages (from pgmpy) (1.1.5)\n",
            "Requirement already satisfied: tqdm in /usr/local/lib/python3.7/dist-packages (from pgmpy) (4.41.1)\n",
            "Requirement already satisfied: joblib in /usr/local/lib/python3.7/dist-packages (from pgmpy) (1.0.1)\n",
            "Requirement already satisfied: scikit-learn in /usr/local/lib/python3.7/dist-packages (from pgmpy) (0.22.2.post1)\n",
            "Requirement already satisfied: typing-extensions in /usr/local/lib/python3.7/dist-packages (from torch->pgmpy) (3.7.4.3)\n",
            "Requirement already satisfied: decorator<5,>=4.3 in /usr/local/lib/python3.7/dist-packages (from networkx->pgmpy) (4.4.2)\n",
            "Requirement already satisfied: patsy>=0.4.0 in /usr/local/lib/python3.7/dist-packages (from statsmodels->pgmpy) (0.5.1)\n",
            "Requirement already satisfied: python-dateutil>=2.7.3 in /usr/local/lib/python3.7/dist-packages (from pandas->pgmpy) (2.8.1)\n",
            "Requirement already satisfied: pytz>=2017.2 in /usr/local/lib/python3.7/dist-packages (from pandas->pgmpy) (2018.9)\n",
            "Requirement already satisfied: six in /usr/local/lib/python3.7/dist-packages (from patsy>=0.4.0->statsmodels->pgmpy) (1.15.0)\n",
            "Installing collected packages: pgmpy\n",
            "Successfully installed pgmpy-0.1.14\n"
          ],
          "name": "stdout"
        }
      ]
    },
    {
      "cell_type": "code",
      "metadata": {
        "id": "p1obW_cNZaLa"
      },
      "source": [
        "import pandas as pd\n",
        "import numpy as np\n",
        "from urllib.request import urlopen\n",
        "from pgmpy.models import BayesianModel\n",
        "from pgmpy.inference import VariableElimination"
      ],
      "execution_count": 3,
      "outputs": []
    },
    {
      "cell_type": "code",
      "metadata": {
        "colab": {
          "base_uri": "https://localhost:8080/"
        },
        "id": "sae7hMVTZaLb",
        "outputId": "44e888e7-56dd-4539-99b4-d322e940cded"
      },
      "source": [
        "data = pd.read_csv('cleveland.csv')\n",
        "data.columns"
      ],
      "execution_count": 5,
      "outputs": [
        {
          "output_type": "execute_result",
          "data": {
            "text/plain": [
              "Index(['age', 'sex', 'cp', 'trestbps', 'chol', 'fbs', 'restecg', 'thalach',\n",
              "       'exang', 'slope', 'ca', 'thal', 'num'],\n",
              "      dtype='object')"
            ]
          },
          "metadata": {
            "tags": []
          },
          "execution_count": 5
        }
      ]
    },
    {
      "cell_type": "markdown",
      "metadata": {
        "id": "m5KP1NX_ZaLc"
      },
      "source": [
        "Define the model edges here:"
      ]
    },
    {
      "cell_type": "code",
      "metadata": {
        "id": "1DQLJVaqZaLc"
      },
      "source": [
        "edges = [('num', 'cp'), ('thal', 'num'), ('num', 'ca'), ('num', 'slope'), ('ca', 'age'), ('slope', 'thalach'), ('exang', 'thalach'), ('cp', 'exang'), ('sex', 'thal'), ('age', 'trestbps')] # This is just an example. You should find the edges yourself. "
      ],
      "execution_count": 10,
      "outputs": []
    },
    {
      "cell_type": "code",
      "metadata": {
        "id": "RZ5rXdjtZaLd"
      },
      "source": [
        "model = BayesianModel()\n",
        "model.add_nodes_from(data.columns)\n",
        "model.add_edges_from(edges)\n",
        "model.fit(data)"
      ],
      "execution_count": 11,
      "outputs": []
    },
    {
      "cell_type": "code",
      "metadata": {
        "colab": {
          "base_uri": "https://localhost:8080/"
        },
        "id": "D2FkIudnZaLd",
        "outputId": "f47ad596-97a7-451a-a97b-cb3479889720"
      },
      "source": [
        "for k, v in model.adjacency():\n",
        "    print(f'{k}: {v}')"
      ],
      "execution_count": 12,
      "outputs": [
        {
          "output_type": "stream",
          "text": [
            "age: {'trestbps': {'weight': None}}\n",
            "sex: {'thal': {'weight': None}}\n",
            "cp: {'exang': {'weight': None}}\n",
            "trestbps: {}\n",
            "chol: {}\n",
            "fbs: {}\n",
            "restecg: {}\n",
            "thalach: {}\n",
            "exang: {'thalach': {'weight': None}}\n",
            "slope: {'thalach': {'weight': None}}\n",
            "ca: {'age': {'weight': None}}\n",
            "thal: {'num': {'weight': None}}\n",
            "num: {'cp': {'weight': None}, 'ca': {'weight': None}, 'slope': {'weight': None}}\n"
          ],
          "name": "stdout"
        }
      ]
    },
    {
      "cell_type": "code",
      "metadata": {
        "id": "ZKV22Q0qZaLd"
      },
      "source": [
        "infer = VariableElimination(model)"
      ],
      "execution_count": 13,
      "outputs": []
    },
    {
      "cell_type": "code",
      "metadata": {
        "tags": [],
        "colab": {
          "base_uri": "https://localhost:8080/"
        },
        "id": "kwTYNYVjZaLe",
        "outputId": "ae4587f2-523b-4dae-8983-909548377c04"
      },
      "source": [
        "q = infer.query(variables=['num'], evidence={'sex': 1})"
      ],
      "execution_count": 14,
      "outputs": [
        {
          "output_type": "stream",
          "text": [
            "Finding Elimination Order: : 100%|██████████| 11/11 [00:00<00:00, 852.06it/s]\n",
            "Eliminating: cp: 100%|██████████| 11/11 [00:00<00:00, 163.15it/s]\n"
          ],
          "name": "stderr"
        }
      ]
    },
    {
      "cell_type": "code",
      "metadata": {
        "colab": {
          "base_uri": "https://localhost:8080/"
        },
        "id": "WBmYMvebZaLe",
        "outputId": "52de0bd3-e8d0-4020-dea2-e608acda1ff8"
      },
      "source": [
        "print(q)"
      ],
      "execution_count": 15,
      "outputs": [
        {
          "output_type": "stream",
          "text": [
            "+--------+------------+\n",
            "| num    |   phi(num) |\n",
            "+========+============+\n",
            "| num(0) |     0.6865 |\n",
            "+--------+------------+\n",
            "| num(1) |     0.0724 |\n",
            "+--------+------------+\n",
            "| num(2) |     0.1507 |\n",
            "+--------+------------+\n",
            "| num(3) |     0.0674 |\n",
            "+--------+------------+\n",
            "| num(4) |     0.0230 |\n",
            "+--------+------------+\n"
          ],
          "name": "stdout"
        }
      ]
    },
    {
      "cell_type": "code",
      "metadata": {
        "id": "gI9sJicicAvB"
      },
      "source": [
        ""
      ],
      "execution_count": null,
      "outputs": []
    }
  ]
}