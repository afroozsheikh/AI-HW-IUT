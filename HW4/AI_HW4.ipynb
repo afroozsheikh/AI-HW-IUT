{
  "nbformat": 4,
  "nbformat_minor": 0,
  "metadata": {
    "colab": {
      "name": "AI_HW4.ipynb",
      "provenance": [],
      "collapsed_sections": []
    },
    "kernelspec": {
      "name": "python3",
      "display_name": "Python 3"
    },
    "language_info": {
      "name": "python"
    }
  },
  "cells": [
    {
      "cell_type": "code",
      "metadata": {
        "id": "oNmS6GJa5wud"
      },
      "source": [
        "import numpy as np\n",
        "import matplotlib.pyplot as plt\n",
        "import gym\n",
        "import random\n"
      ],
      "execution_count": 7,
      "outputs": []
    },
    {
      "cell_type": "code",
      "metadata": {
        "id": "UsQNolmm5yw1"
      },
      "source": [
        "number_of_states = 5\n",
        "slip_chance = 0.05\n",
        "small_reward = 2\n",
        "large_reward = 10\n",
        "gamma = 0.9  # Discounting rate\n",
        "\n",
        "\n",
        "env = gym.make(\"NChain-v0\", slip=slip_chance, n=number_of_states, small=small_reward, large=large_reward)\n",
        "\n",
        "V = np.zeros(number_of_states)\n"
      ],
      "execution_count": 29,
      "outputs": []
    },
    {
      "cell_type": "code",
      "metadata": {
        "id": "Rd8oFBNh6I2R"
      },
      "source": [
        "while True:\n",
        "  tmp = V.copy()\n",
        "  for state in range(number_of_states):\n",
        "    next_state = min(state + 1, number_of_states - 1)\n",
        "    if state == number_of_states - 1:\n",
        "      V[state] = large_reward + gamma * max((1 - slip_chance) * V[number_of_states - 1] + slip_chance * V[0], slip_chance * V[number_of_states - 1] + (1 - slip_chance) * V[0])\n",
        "    elif state == 0: #first state\n",
        "      V[state] = small_reward + gamma * max((1 - slip_chance) * V[next_state] + slip_chance * V[0], slip_chance * V[next_state] + (1 - slip_chance) * V[0])\n",
        "    else:\n",
        "      V[state] = gamma * max((1 - slip_chance) * V[next_state] + slip_chance * V[0], slip_chance * V[next_state] + (1 - slip_chance) * V[0])\n",
        "\n",
        "  if np.max(np.abs(V - tmp)) == 0:\n",
        "    break\n"
      ],
      "execution_count": 30,
      "outputs": []
    },
    {
      "cell_type": "code",
      "metadata": {
        "colab": {
          "base_uri": "https://localhost:8080/"
        },
        "id": "7-q2q6yVJ1YI",
        "outputId": "65ee420a-09c6-4135-9eda-cdd8336d9cfc"
      },
      "source": [
        "print(f'number of states = {number_of_states}')\n",
        "print('-------------------------------------------')\n",
        "print(f'slip chance = {slip_chance}')\n",
        "print('-------------------------------------------')\n",
        "print(f'small reward = {small_reward}')\n",
        "print('-------------------------------------------')\n",
        "print(f'large reward = {large_reward}')\n",
        "print('-------------------------------------------')\n",
        "print(f'gamma = {gamma}')\n",
        "print('-------------------------------------------')\n",
        "print(f'V* = {V}')"
      ],
      "execution_count": 31,
      "outputs": [
        {
          "output_type": "stream",
          "text": [
            "number of states = 5\n",
            "-------------------------------------------\n",
            "slip chance = 0.05\n",
            "-------------------------------------------\n",
            "small reward = 2\n",
            "-------------------------------------------\n",
            "large reward = 10\n",
            "-------------------------------------------\n",
            "gamma = 0.9\n",
            "-------------------------------------------\n",
            "V* = [56.33975506 60.59001881 67.90026881 76.45026881 86.45026881]\n"
          ],
          "name": "stdout"
        }
      ]
    },
    {
      "cell_type": "code",
      "metadata": {
        "colab": {
          "base_uri": "https://localhost:8080/"
        },
        "id": "QjQdFpot6Xes",
        "outputId": "11cd28b2-297e-4df2-f6d7-72d4480ed0a1"
      },
      "source": [
        "test_steps = 10000\n",
        "state = env.reset()\n",
        "cumulative_rewards = 0\n",
        "\n",
        "for step in range(test_steps):\n",
        "    next_state = min(state + 1, number_of_states - 1)    \n",
        "    forward_value = (1 - slip_chance) * V[next_state] + slip_chance * V[0]\n",
        "    bacward_value = slip_chance * V[next_state] + (1 - slip_chance) * V[0]\n",
        "\n",
        "    if forward_value > bacward_value:\n",
        "        action = 0\n",
        "    else:\n",
        "        action = 1\n",
        "    \n",
        "    new_state, reward, done, info = env.step(action)\n",
        "\n",
        "    #print(state, action, new_state, reward)\n",
        "\n",
        "    cumulative_rewards += reward      \n",
        "    state = new_state\n",
        "    \n",
        "\n",
        "print (\"Cumulative reward: {}\".format(cumulative_rewards))\n",
        "print (\"Average reward: {}\".format(cumulative_rewards / test_steps))\n"
      ],
      "execution_count": 18,
      "outputs": [
        {
          "output_type": "stream",
          "text": [
            "Cumulative reward: 37720\n",
            "Average reward: 3.772\n"
          ],
          "name": "stdout"
        }
      ]
    },
    {
      "cell_type": "code",
      "metadata": {
        "id": "TfO1gcbu8sUA"
      },
      "source": [
        ""
      ],
      "execution_count": null,
      "outputs": []
    }
  ]
}